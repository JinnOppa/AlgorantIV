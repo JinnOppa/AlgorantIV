{
 "cells": [
  {
   "cell_type": "code",
   "execution_count": 5,
   "metadata": {},
   "outputs": [],
   "source": [
    "from netCDF4 import Dataset\n",
    "import numpy as np\n",
    "import os\n",
    "import sys\n",
    "sys.path.append(r'/Users/uranus/workarea/bke/seabottom4.1')\n",
    "from bkenergy.ibathy import Gridinfo, Sbathy\n",
    "from bkenergy.icke import Sbenergy\n",
    "from bkenergy.iwke import Wbenergy\n",
    "from bkenergy.bchem import Sbchem"
   ]
  },
  {
   "cell_type": "code",
   "execution_count": null,
   "metadata": {},
   "outputs": [],
   "source": []
  }
 ],
 "metadata": {
  "language_info": {
   "name": "python"
  },
  "orig_nbformat": 4
 },
 "nbformat": 4,
 "nbformat_minor": 2
}
